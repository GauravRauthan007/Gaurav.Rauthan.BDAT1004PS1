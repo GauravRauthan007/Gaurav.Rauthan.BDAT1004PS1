{
 "cells": [
  {
   "cell_type": "markdown",
   "id": "6d8bf602",
   "metadata": {},
   "source": [
    "## Problem Set 1"
   ]
  },
  {
   "cell_type": "markdown",
   "id": "b584f504",
   "metadata": {},
   "source": [
    "## Question 1"
   ]
  },
  {
   "cell_type": "markdown",
   "id": "5eb94966",
   "metadata": {},
   "source": [
    "What data type is each of the following (evaluate where necessary)?\n",
    "\n",
    "a) 5\n",
    "\n",
    "b) 5.0\n",
    "\n",
    "c) 5 > 1\n",
    "\n",
    "d) '5'\n",
    "\n",
    "e) 5 * 2\n",
    "\n",
    "f) '5' * 2\n",
    "\n",
    "g) '5' + '2'\n",
    "\n",
    "h) 5 / 2\n",
    "\n",
    "i) 5 % 2\n",
    "\n",
    "j) {5, 2, 1}\n",
    "\n",
    "k) 5 == 3\n",
    "\n",
    "l) Pi (the number)"
   ]
  },
  {
   "cell_type": "code",
   "execution_count": 17,
   "id": "063f9e55",
   "metadata": {},
   "outputs": [
    {
     "name": "stdout",
     "output_type": "stream",
     "text": [
      "Datatype of 5 is: System.Int32\r\n"
     ]
    }
   ],
   "source": [
    "// A = 5\n",
    "int A = 5;\n",
    "Console.WriteLine(\"Datatype of A is: \" + A.GetType());"
   ]
  },
  {
   "cell_type": "code",
   "execution_count": 16,
   "id": "636b1c5b",
   "metadata": {},
   "outputs": [
    {
     "name": "stdout",
     "output_type": "stream",
     "text": [
      "Data type of B) 5.0 is: System.Double\r\n"
     ]
    }
   ],
   "source": [
    "// B = 5.0\n",
    "double B = 5.0;\n",
    "Console.WriteLine(\"Data type of B is: \" + B.GetType());"
   ]
  },
  {
   "cell_type": "code",
   "execution_count": 9,
   "id": "6295dd15",
   "metadata": {},
   "outputs": [
    {
     "name": "stdout",
     "output_type": "stream",
     "text": [
      "The data type of c) 5 > 1 is: System.Boolean\r\n"
     ]
    }
   ],
   "source": [
    "// C = 5>1\n",
    "bool C = 5 > 1;\n",
    "Console.WriteLine(\"Data type of C is: \" + C.GetType());"
   ]
  },
  {
   "cell_type": "code",
   "execution_count": 10,
   "id": "dfd3b5b7",
   "metadata": {},
   "outputs": [
    {
     "name": "stdout",
     "output_type": "stream",
     "text": [
      "The data type of d) '5' is: System.Char\r\n"
     ]
    }
   ],
   "source": [
    "// D = '5'\n",
    "char D = '5';\n",
    "Console.WriteLine(\"Data type of D is: \" + D.GetType());"
   ]
  },
  {
   "cell_type": "code",
   "execution_count": 11,
   "id": "d1c7688d",
   "metadata": {},
   "outputs": [
    {
     "name": "stdout",
     "output_type": "stream",
     "text": [
      "The data type of e) 5 * 2 is: System.Int32\r\n"
     ]
    }
   ],
   "source": [
    "// E = 5*2\n",
    "int E = 5 * 2;\n",
    "Console.WriteLine(\"data type of E is: \" + E.GetType());"
   ]
  },
  {
   "cell_type": "code",
   "execution_count": 12,
   "id": "77679cbd",
   "metadata": {},
   "outputs": [
    {
     "name": "stdout",
     "output_type": "stream",
     "text": [
      "The data type of f) '5' * 2 is: System.Int32\r\n"
     ]
    }
   ],
   "source": [
    "// F = '5'*2\n",
    "int F = '5' * 2;\n",
    "Console.WriteLine(\"The data type of F) '5' * 2 is: \" + F.GetType());"
   ]
  },
  {
   "cell_type": "code",
   "execution_count": 13,
   "id": "daa359b4",
   "metadata": {},
   "outputs": [
    {
     "name": "stdout",
     "output_type": "stream",
     "text": [
      "The data type of g) '5' + '2' is: System.Int32\r\n"
     ]
    }
   ],
   "source": [
    "// G = '5' + '2'\n",
    "int G = '5' + '2';\n",
    "Console.WriteLine(\"The data type of G is: \" + G.GetType());"
   ]
  },
  {
   "cell_type": "code",
   "execution_count": 14,
   "id": "df87342c",
   "metadata": {},
   "outputs": [
    {
     "name": "stdout",
     "output_type": "stream",
     "text": [
      "The data type of h) 5 / 2 is: System.Double\r\n"
     ]
    }
   ],
   "source": [
    "// H = 5.0/2.0\n",
    "double H = 5.0 / 2.0;\n",
    "Console.WriteLine(\"The data type of H is: \" + H.GetType());"
   ]
  },
  {
   "cell_type": "code",
   "execution_count": 15,
   "id": "7ab90166",
   "metadata": {},
   "outputs": [
    {
     "name": "stdout",
     "output_type": "stream",
     "text": [
      "The data type of i) 5 % 2 is: System.Int32\r\n"
     ]
    }
   ],
   "source": [
    "// I = 5%2\n",
    "int I = 5 % 2;\n",
    "Console.WriteLine(\"The data type of I is: \" + I.GetType());"
   ]
  },
  {
   "cell_type": "code",
   "execution_count": 16,
   "id": "44aa872d",
   "metadata": {},
   "outputs": [
    {
     "name": "stdout",
     "output_type": "stream",
     "text": [
      "The data type of j) {5, 2, 1} is: System.Int32[]\r\n"
     ]
    }
   ],
   "source": [
    "// J = {5,2,1}\n",
    "int[] J = { 5, 2, 1 };\n",
    "Console.WriteLine(\"The data type of J is: \" + J.GetType());"
   ]
  },
  {
   "cell_type": "code",
   "execution_count": 18,
   "id": "70fb07c7",
   "metadata": {},
   "outputs": [
    {
     "name": "stdout",
     "output_type": "stream",
     "text": [
      "The data type of K is: System.Boolean\r\n"
     ]
    }
   ],
   "source": [
    "// K = 5 == 3\n",
    "bool K = 5 == 3;\n",
    "Console.WriteLine(\"The data type of K is: \" + K.GetType());"
   ]
  },
  {
   "cell_type": "code",
   "execution_count": 21,
   "id": "544ddf44",
   "metadata": {},
   "outputs": [
    {
     "data": {
      "text/plain": [
       "3.141592653589793"
      ]
     },
     "execution_count": 21,
     "metadata": {},
     "output_type": "execute_result"
    }
   ],
   "source": [
    "using System;\n",
    "\n",
    "// Let's find the value of Pi (π)\n",
    "double piValue = Math.PI;\n",
    "\n",
    "// Print the value of Pi\n",
    "piValue"
   ]
  },
  {
   "cell_type": "markdown",
   "id": "407c18e5",
   "metadata": {},
   "source": [
    "## Question 2"
   ]
  },
  {
   "cell_type": "markdown",
   "id": "9338c3d7",
   "metadata": {},
   "source": [
    "Write (and evaluate) C# expressions that answer these questions:\n",
    "a. How many letters are there in 'Supercalifragilisticexpialidocious'?\n",
    "b. Does 'Supercalifragilisticexpialidocious' contain 'ice' as a substring?\n",
    "c. Which of the following words is the longest:\n",
    "   Supercalifragilisticexpialidocious, Honorificabilitudinitatibus, orBababadalgharaghtakamminarronnkonn?\n",
    "d. Which composer comes first in the dictionary: 'Berlioz', 'Borodin','Brian','Bartok', 'Bellini', 'Buxtehude', 'Bernstein'.        Which one comes last?\n"
   ]
  },
  {
   "cell_type": "code",
   "execution_count": 18,
   "id": "8273baa5",
   "metadata": {},
   "outputs": [
    {
     "name": "stdout",
     "output_type": "stream",
     "text": [
      "Number of letters in 'Supercalifragilisticexpialidocious': 34\r\n"
     ]
    }
   ],
   "source": [
    "// How many letters are there in 'Supercalifragilisticexpialidocious'?\n",
    "using System;\n",
    "\n",
    "string word = \"Supercalifragilisticexpialidocious\";\n",
    "int numberOfLetters = word.Length;\n",
    "Console.WriteLine(\"Number of letters in 'Supercalifragilisticexpialidocious': \" + numberOfLetters);\n",
    "\n"
   ]
  },
  {
   "cell_type": "code",
   "execution_count": 19,
   "id": "c0c1df13",
   "metadata": {},
   "outputs": [
    {
     "name": "stdout",
     "output_type": "stream",
     "text": [
      "Does 'Supercalifragilisticexpialidocious' contain 'ice'? True\r\n"
     ]
    }
   ],
   "source": [
    "// Does'Supercalifragilisticexpialidocious' contain 'ice' as a substring?\n",
    "using System;\n",
    "\n",
    "string word = \"Supercalifragilisticexpialidocious\";\n",
    "bool containsIce = word.Contains(\"ice\");\n",
    "Console.WriteLine(\"Does 'Supercalifragilisticexpialidocious' contain 'ice'? \" + containsIce);"
   ]
  },
  {
   "cell_type": "code",
   "execution_count": 29,
   "id": "f220e1e2",
   "metadata": {},
   "outputs": [
    {
     "name": "stdout",
     "output_type": "stream",
     "text": [
      "The longest word is: orBababadalgharaghtakamminarronnkonn\r\n"
     ]
    }
   ],
   "source": [
    "//  Which of the following words is the longest: Supercalifragilisticexpialidocious,Honorificabilitudinitatibus, orBababadalgharaghtakamminarronnkonn?\n",
    "using System;\n",
    "\n",
    "// Array of words to find the longest word from\n",
    "string[] wordArray = { \"Supercalifragilisticexpialidocious\", \"Honorificabilitudinitatibus\", \"orBababadalgharaghtakamminarronnkonn\" };\n",
    "\n",
    "string longestWord = \"\";\n",
    "FindLongestWord(wordArray, out longestWord);\n",
    "\n",
    "Console.WriteLine(\"The longest word is: \" + longestWord);\n",
    "\n",
    "// Function to find the longest word in the array\n",
    "void FindLongestWord(string[] words, out string longest)\n",
    "{\n",
    "    longest = \"\";  // Initialize the longest word as an empty string\n",
    "    int maxLength = 0;  // Initialize the maximum length to 0\n",
    "\n",
    "    foreach (string word in words)\n",
    "    {\n",
    "        int currentLength = word.Replace(\" \", \"\").Length;  // Calculate the length of the current word\n",
    "\n",
    "        if (currentLength > maxLength)\n",
    "        {\n",
    "            maxLength = currentLength;  // Update the maximum length if needed\n",
    "            longest = word;  // Update the longest word\n",
    "        }\n",
    "    }\n",
    "}\n",
    "\n",
    "\n"
   ]
  },
  {
   "cell_type": "code",
   "execution_count": 32,
   "id": "a9537462",
   "metadata": {},
   "outputs": [
    {
     "name": "stdout",
     "output_type": "stream",
     "text": [
      "The first composer in the dictionary is: Bartok\n",
      "The last composer in the dictionary is: Buxtehude\n"
     ]
    }
   ],
   "source": [
    "// Which composer comes first in the dictionary: 'Berlioz', 'Borodin','Brian','Bartok', 'Bellini', 'Buxtehude', 'Bernstein'. Which one comes last?\n",
    "using System;\n",
    "\n",
    "string[] composers = { \"Berlioz\", \"Borodin\", \"Brian\", \"Bartok\", \"Bellini\", \"Buxtehude\", \"Bernstein\" };\n",
    "\n",
    "Array.Sort(composers);\n",
    "\n",
    "string firstComposer = composers[0];\n",
    "string lastComposer = composers[composers.Length - 1];\n",
    "\n",
    "Console.WriteLine(\"The first composer in the dictionary is: \" + firstComposer);\n",
    "Console.WriteLine(\"The last composer in the dictionary is: \" + lastComposer);\n"
   ]
  },
  {
   "cell_type": "markdown",
   "id": "da5954bb",
   "metadata": {},
   "source": [
    "## Question 3 C#"
   ]
  },
  {
   "cell_type": "raw",
   "id": "25793336",
   "metadata": {},
   "source": [
    "Implement function triangleArea(a,b,c) that takes as input the lengths of the 3sides of a triangle and returns the area of the triangle. By Heron's formula, the areaof a triangle with side lengths a, b, and c is s(s - a)(s -b)(s -c), where s = (a+b+c)/2.\n",
    ">>> triangleArea(2,2,2)\n",
    "1.7320508075688772"
   ]
  },
  {
   "cell_type": "code",
   "execution_count": 33,
   "id": "f47f2c39",
   "metadata": {},
   "outputs": [
    {
     "data": {
      "text/plain": [
       "30"
      ]
     },
     "execution_count": 33,
     "metadata": {},
     "output_type": "execute_result"
    }
   ],
   "source": [
    "using System;\n",
    "\n",
    "public class Program\n",
    "{\n",
    "    public static double TriangleArea(double a, double b, double c)\n",
    "    {\n",
    "        double s = (a + b + c) / 2;\n",
    "        double area = Math.Sqrt(s * (s - a) * (s - b) * (s - c));\n",
    "        return area;\n",
    "    }\n",
    "}\n",
    "\n",
    "double sideA = 5;\n",
    "double sideB = 12;\n",
    "double sideC = 13;\n",
    "\n",
    "double area = Program.TriangleArea(sideA, sideB, sideC);\n",
    "\n",
    "area\n"
   ]
  },
  {
   "cell_type": "markdown",
   "id": "43b49816",
   "metadata": {},
   "source": [
    "## Question 4 C#"
   ]
  },
  {
   "cell_type": "markdown",
   "id": "57a7f061",
   "metadata": {},
   "source": [
    "Write a program in C# Sharp to separate odd and even integers in separate arrays.\n",
    "Go to the editor\n",
    "Test Data :\n",
    "Input the number of elements to be stored in the array :5\n",
    "Input 5 elements in the array :\n",
    "element - 0 : 25\n",
    "element - 1 : 47\n",
    "element - 2 : 42\n",
    "element - 3 : 56\n",
    "element - 4 : 32\n",
    "Expected Output:\n",
    "The Even elements are:\n",
    "42 56 32\n",
    "The Odd elements are:\n",
    "25 47\n"
   ]
  },
  {
   "cell_type": "code",
   "execution_count": 38,
   "id": "6d706bc2",
   "metadata": {},
   "outputs": [
    {
     "name": "stdout",
     "output_type": "stream",
     "text": [
      "Odd numbers:\n",
      "5\n",
      "17\n",
      "9\n",
      "\n",
      "Even numbers:\n",
      "22\n",
      "46\n"
     ]
    }
   ],
   "source": [
    "\n",
    "using System;\n",
    "\n",
    "public class Program\n",
    "{\n",
    "    public static void Main()\n",
    "    {\n",
    "        int[] num = { 5,22,17,9,46 }; // We can input any elements here \n",
    "\n",
    "        int CountOdd = 0;\n",
    "        int CountEven = 0;\n",
    "\n",
    "        // how many numbers are even and how many are odd.\n",
    "        foreach (int no in num)\n",
    "        {\n",
    "            if (no % 2 == 0)\n",
    "            {\n",
    "                CountEven++;\n",
    "            }\n",
    "            else\n",
    "            {\n",
    "                CountOdd++;\n",
    "            }\n",
    "        }\n",
    "\n",
    "        // Create arrays to start with odd and even numbers\n",
    "        int[] oddNum = new int[CountOdd];\n",
    "        int[] evenNum = new int[CountEven];\n",
    "\n",
    "        int oddIndex = 0;\n",
    "        int evenIndex = 0;\n",
    "\n",
    "        \n",
    "        foreach (int no in num)\n",
    "        {\n",
    "            if (no % 2 == 0)\n",
    "            {\n",
    "                evenNum[evenIndex] = no;\n",
    "                evenIndex++;\n",
    "            }\n",
    "            else\n",
    "            {\n",
    "                oddNum[oddIndex] = no;\n",
    "                oddIndex++;\n",
    "            }\n",
    "        }\n",
    "\n",
    "        \n",
    "        Console.WriteLine(\"Odd numbers:\");\n",
    "        foreach (int odd in oddNum)\n",
    "        {\n",
    "            Console.WriteLine(odd);\n",
    "        }\n",
    "\n",
    "        Console.WriteLine(\"\\nEven numbers:\");\n",
    "        foreach (int even in evenNum)\n",
    "        {\n",
    "            Console.WriteLine(even);\n",
    "        }\n",
    "    }\n",
    "}\n",
    "Program.Main();"
   ]
  },
  {
   "cell_type": "markdown",
   "id": "13b14547",
   "metadata": {},
   "source": [
    "## Question 5 C#"
   ]
  },
  {
   "cell_type": "raw",
   "id": "805ae57f",
   "metadata": {},
   "source": [
    "a. Write a function inside(x,y,x1,y1,x2,y2) that returns True or False dependingonwhetherthepoint(x,y)liesintherectanglewithlowerleft\n",
    "corner (x1,y1) and upper right corner (x2,y2).\n",
    ">>> inside(1,1,0,0,2,3)\n",
    "True\n",
    ">>> inside(-1,-1,0,0,2,3)\n",
    "False\n",
    "b. Use function inside() from part a. to write an expression that tests        whetherthe point (1,1) lies in both of the following rectangles: one        with lower leftcorner (0.3, 0.5) and upper right corner (1.1, 0.7) and      the other with lowerleft corner (0.5, 0.2) and upper right corner (1.1, 2)."
   ]
  },
  {
   "cell_type": "code",
   "execution_count": 35,
   "id": "85e31f68",
   "metadata": {},
   "outputs": [],
   "source": [
    "// A) Write a function inside(x,y,x1,y1,x2,y2) that returns True or False depending on whether the point (x,y) lies in the rectangle with lower left corner (x1,y1) and upper right corner (x2,y2).\n",
    "\n",
    "using System;\n",
    "\n",
    "public class Program\n",
    "{\n",
    "    public static bool Inside(double x, double y, double x1, double y1, double x2, double y2)\n",
    "    {\n",
    "        bool isInside = (x >= x1 && x <= x2) && (y >= y1 && y <= y2);\n",
    "        return isInside;\n",
    "    }\n",
    "}"
   ]
  },
  {
   "cell_type": "code",
   "execution_count": 25,
   "id": "5dee7df7",
   "metadata": {},
   "outputs": [
    {
     "name": "stdout",
     "output_type": "stream",
     "text": [
      "Point (1,1) is outside the first rectangle.\n",
      "Point (1,1) is inside the first rectangle.\n"
     ]
    }
   ],
   "source": [
    "// B)Use function inside() from part a. to write an expression that tests \n",
    "using System;\n",
    "\n",
    " \n",
    "\n",
    "public class Program1\n",
    "{\n",
    "    public static bool coordinates(double x, double y, double x1, double y1, double x2, double y2)\n",
    "    {\n",
    "        bool iscoordinates = (x >= x1 && x <= x2) && (y >= y1 && y <= y2);\n",
    "        return iscoordinates;\n",
    "    }\n",
    "\n",
    " \n",
    "\n",
    "    public static void Main()\n",
    "    {\n",
    "        double x = 1;\n",
    "        double y = 1;\n",
    "        double x1 = 0.3;\n",
    "        double y1 = 0.5;\n",
    "        double x2 = 1.1;\n",
    "        double y2 = 0.7;\n",
    "\n",
    " \n",
    "\n",
    "        bool result = coordinates(x, y, x1, y1, x2, y2);\n",
    "\n",
    " \n",
    "\n",
    "        if (result)\n",
    "        {\n",
    "            Console.WriteLine($\"Point ({x},{y}) is inside the first rectangle.\");\n",
    "        }\n",
    "        else\n",
    "        {\n",
    "            Console.WriteLine($\"Point ({x},{y}) is outside the first rectangle.\");\n",
    "        }\n",
    "    }\n",
    "}\n",
    "\n",
    " \n",
    "\n",
    "Program1.Main();\n",
    "\n",
    " \n",
    "\n",
    "// For Second Rectangle\n",
    "\n",
    " \n",
    "\n",
    "public class Program2\n",
    "{\n",
    "    public static bool coordinates(double x, double y, double x1, double y1, double x2, double y2)\n",
    "    {\n",
    "        bool iscoordinates = (x >= x1 && x <= x2) && (y >= y1 && y <= y2);\n",
    "        return iscoordinates;\n",
    "    }\n",
    "\n",
    " \n",
    "\n",
    "    public static void Main()\n",
    "    {\n",
    "        double x = 1;\n",
    "        double y = 1;\n",
    "        double x1 = 0.5;\n",
    "        double y1 = 0.2;\n",
    "        double x2 = 1.1;\n",
    "        double y2 = 2;\n",
    "\n",
    " \n",
    "\n",
    "        bool result = coordinates(x, y, x1, y1, x2, y2);\n",
    "\n",
    " \n",
    "\n",
    "        if (result)\n",
    "        {\n",
    "            Console.WriteLine($\"Point ({x},{y}) is inside the first rectangle.\");\n",
    "        }\n",
    "        else\n",
    "        {\n",
    "            Console.WriteLine($\"Point ({x},{y}) is outside the first rectangle.\");\n",
    "        }\n",
    "    }\n",
    "}\n",
    "\n",
    " \n",
    "\n",
    "Program2.Main();\n",
    "\n",
    " "
   ]
  },
  {
   "cell_type": "markdown",
   "id": "52e4b7fc",
   "metadata": {},
   "source": [
    "## Question 6 Python"
   ]
  },
  {
   "cell_type": "markdown",
   "id": "0f70d282",
   "metadata": {},
   "source": [
    "You can turn a word into pig-Latin using the following two rules (simplified): • If the word starts with a consonant, move that letter to the end and append 'ay'. For example, 'happy' becomes 'appyhay' and 'pencil' becomes 'encilpay'. • If the word starts with a vowel, simply append 'way' to the end of the word. For example, 'enter' becomes 'enterway' and 'other' becomes 'otherway' . For our purposes, there are 5 vowels: a, e, i, o, u (so we count y as a consonant). Write a function pig() that takes a word (i.e., a string) as input and returns its pigLatin form. Your function should still work if the input word contains upper casecharacters. Your output should always be lower case however."
   ]
  },
  {
   "cell_type": "code",
   "execution_count": null,
   "id": "448a8719",
   "metadata": {},
   "outputs": [],
   "source": [
    "def pig_latin_conversion(input_word):\n",
    "    \n",
    "    input_word = input_word.lower()  # Convert the word to lowercase to handle uppercase characters\n",
    "    \n",
    "    vowels_list = ['a', 'e', 'i', 'o', 'u']  # Define a list of vowels\n",
    "    \n",
    "    if input_word[0] in vowels_list:  # Check if the word starts with a vowel\n",
    "        piglatin_word = input_word + 'way'\n",
    "    else:\n",
    "        piglatin_word = input_word[1:] + input_word[0] + 'ay'\n",
    "    \n",
    "    return piglatin_word\n",
    "\n",
    "user_word = input(\"Enter a word: \")\n",
    "piglatin_output = pig_latin_conversion(user_word)\n",
    "print(\"Pig Latin word:\", piglatin_output)\n",
    "\n"
   ]
  },
  {
   "cell_type": "markdown",
   "id": "6b90ffae",
   "metadata": {},
   "source": [
    "## Question 7 Python"
   ]
  },
  {
   "cell_type": "raw",
   "id": "3d864c9b",
   "metadata": {},
   "source": [
    "File bloodtype1.txt records blood-types of patients (A, B, AB, O or OO) at a clinic.Write a function bldcount() that reads the file with name name and reports (i.e.,prints) how many patients there are in each bloodtype.\n",
    "\n",
    ">>> bldcount('bloodtype.txt')\n",
    "There are 10 patients of blood type A.\n",
    "There is one patient of blood type B.\n",
    "There are 10 patients of blood type AB.\n",
    "There are 12 patients of blood type O.\n",
    "There are no patients of blood type OO."
   ]
  },
  {
   "cell_type": "code",
   "execution_count": 3,
   "id": "0134bf9e",
   "metadata": {},
   "outputs": [
    {
     "name": "stdout",
     "output_type": "stream",
     "text": [
      "Blood Type A: 15 patients\n",
      "Blood Type B: 1 patients\n",
      "Blood Type AB: 13 patients\n",
      "Blood Type O: 15 patients\n",
      "Blood Type OO: 0 patients\n"
     ]
    }
   ],
   "source": [
    "def count_blood_types(file_path):\n",
    "    # Initialize a dictionary to store the blood type counts\n",
    "    blood_type_counts = {\n",
    "        'A': 0,\n",
    "        'B': 0,\n",
    "        'AB': 0,\n",
    "        'O': 0,\n",
    "        'OO': 0\n",
    "    }\n",
    "\n",
    "    # Open the file for reading\n",
    "    with open(file_path, 'r') as file:\n",
    "        # Read the content of the file\n",
    "        data_split = file.read()\n",
    "            \n",
    "        # Split the data into a list of blood types\n",
    "        blood_types_list = data_split.split()\n",
    "            \n",
    "        # Count the occurrences of each blood type\n",
    "        for blood in blood_types_list:\n",
    "            if blood in blood_type_counts:\n",
    "                blood_type_counts[blood] += 1\n",
    "\n",
    "    # Print the blood type counts\n",
    "    for blood, count in blood_type_counts.items():\n",
    "        print(f\"Blood Type {blood}: {count} patients\")\n",
    "\n",
    "# Call the function with the file path\n",
    "count_blood_types('bloodtype1.txt')\n"
   ]
  },
  {
   "cell_type": "markdown",
   "id": "40daaf79",
   "metadata": {},
   "source": [
    "## Question 8 Python"
   ]
  },
  {
   "cell_type": "raw",
   "id": "4f533a61",
   "metadata": {},
   "source": [
    "Write a function curconv() that takes as input:\n",
    "1. a currency represented using a string (e.g., 'JPY' for the Japanese Yen or'EUR' for the Euro)\n",
    "2. an amount\n",
    "and then converts and returns the amount in US dollars.\n",
    ">>> curconv('EUR', 100)\n",
    "122.96544\n",
    ">>> curconv('JPY', 100)\n",
    "1.241401\n",
    "The currency rates you will need are stored in file currencies.txt:\n",
    "AUD 1.0345157 Australian Dollar\n",
    "CDKK 0.1651442 Danish Krone\n",
    "EUR 1.2296544 Euro\n",
    "GBP 1.5550989 British Pound\n",
    "HKD 0.1270207 Hong Kong Dollar\n",
    "INR 0.0177643 Indian Rupee\n",
    "JPY 0.01241401 Japanese Yen\n",
    "MXN 0.0751848 Mexican Peso\n",
    "MYR 0.3145411 Malaysian Ringgit\n",
    "NOK 0.1677063 Norwegian Krone\n",
    "NZD 0.8003591 New Zealand Dollar\n",
    "PHP 0.0233234 Philippine Peso\n",
    "SEK 0.148269 Swedish Krona\n",
    "SGD 0.788871 Singapore Dollar\n",
    "THB 0.0313789 Thai Baht\n"
   ]
  },
  {
   "cell_type": "code",
   "execution_count": null,
   "id": "aa3198c2",
   "metadata": {},
   "outputs": [],
   "source": [
    "def convert_currency(currency_code, amount):\n",
    "    # Open and read the 'currencies.txt' file\n",
    "    with open('currencies.txt', 'r') as file:\n",
    "        data = file.readlines()\n",
    "    \n",
    "    # Create a dictionary to store the currency rates\n",
    "    conversion_rates = {}\n",
    "    \n",
    "    # Parse the lines and populate the conversion_rates dictionary\n",
    "    for line in data:\n",
    "        parts = line.split()\n",
    "        if len(parts) >= 3:\n",
    "            code, rate = parts[:2]\n",
    "            conversion_rates[code] = float(rate)\n",
    "    \n",
    "    # Convert the user's lowercase input to uppercase\n",
    "    currency_code = currency_code.upper()\n",
    "    \n",
    "    # Check if the provided currency code exists in the conversion_rates dictionary\n",
    "    if currency_code in conversion_rates:\n",
    "        # Convert the amount to US dollars using the conversion rate\n",
    "        usd_amount = amount * conversion_rates[currency_code]\n",
    "        return usd_amount\n",
    "    else:\n",
    "        print(f\"Currency code '{currency_code}' not found in the currency rates.\")\n",
    "\n",
    "# Input from the user\n",
    "user_currency_code = input(\"Enter the currency code: \")\n",
    "user_amount = float(input(\"Enter the amount: \"))\n",
    "\n",
    "# Call the convert_currency function with user input\n",
    "result_usd = convert_currency(user_currency_code, user_amount)\n",
    "\n",
    "if result_usd is not None:\n",
    "    print(f\"{user_amount} {user_currency_code} is equal to {result_usd} USD\")\n"
   ]
  },
  {
   "cell_type": "markdown",
   "id": "156df806",
   "metadata": {},
   "source": [
    "## Question 9 Python"
   ]
  },
  {
   "cell_type": "markdown",
   "id": "bf03a5f4",
   "metadata": {},
   "source": [
    "Each of the following will cause an exception (an error). Identify what type ofexception each will cause.\n",
    "Trying to add incompatible variables, as inadding 6 + ‘a’\n",
    "Referring to the 12th item of a list that has only 10items\n",
    "Using a value that is out of range for a function’sinput, such as calling math.sqrt(-1.0)\n",
    "Using an undeclared variable, such as print(x)when x has not been defined\n",
    "Trying to open a file that does not exist, such asmistyping the file name or looking in the wrongdirectory."
   ]
  },
  {
   "cell_type": "code",
   "execution_count": 29,
   "id": "6d658837",
   "metadata": {},
   "outputs": [
    {
     "ename": "Unhandled Exception",
     "evalue": "(1,3): error CS1024: Preprocessor directive expected",
     "output_type": "error",
     "traceback": [
      "(1,3): error CS1024: Preprocessor directive expected"
     ]
    }
   ],
   "source": [
    "# Trying to add incompatible variables, as in adding 6 + ‘a’\n",
    "b = 6 + 'a'"
   ]
  },
  {
   "cell_type": "code",
   "execution_count": 30,
   "id": "6ed12e30",
   "metadata": {},
   "outputs": [
    {
     "ename": "Unhandled Exception",
     "evalue": "(1,3): error CS1024: Preprocessor directive expected",
     "output_type": "error",
     "traceback": [
      "(1,3): error CS1024: Preprocessor directive expected"
     ]
    }
   ],
   "source": [
    "# Trying to add incompatible variables, as in adding 6 + ‘a’\n",
    "b = 6 + 'a'"
   ]
  },
  {
   "cell_type": "code",
   "execution_count": 31,
   "id": "d2efc4b1",
   "metadata": {},
   "outputs": [
    {
     "ename": "Unhandled Exception",
     "evalue": "(1,3): error CS1024: Preprocessor directive expected",
     "output_type": "error",
     "traceback": [
      "(1,3): error CS1024: Preprocessor directive expected"
     ]
    }
   ],
   "source": [
    "# Trying to add incompatible variables, as in adding 6 + ‘a’\n",
    "b = 6 + 'a'"
   ]
  },
  {
   "cell_type": "code",
   "execution_count": 32,
   "id": "a78794cf",
   "metadata": {},
   "outputs": [
    {
     "ename": "Unhandled Exception",
     "evalue": "(1,3): error CS1024: Preprocessor directive expected",
     "output_type": "error",
     "traceback": [
      "(1,3): error CS1024: Preprocessor directive expected"
     ]
    }
   ],
   "source": [
    "# Trying to add incompatible variables, as in adding 6 + ‘a’\n",
    "b = 6 + 'a'"
   ]
  },
  {
   "cell_type": "code",
   "execution_count": 33,
   "id": "f83c8113",
   "metadata": {},
   "outputs": [
    {
     "ename": "Unhandled Exception",
     "evalue": "(1,2): error CS1024: Preprocessor directive expected\r\n(2,11): error CS1012: Too many characters in character literal\r\n(2,27): error CS1031: Type expected\r\n(2,27): error CS1001: Identifier expected\r\n(2,29): error CS1031: Type expected\r\n(2,29): error CS1001: Identifier expected\r\n(2,29): error CS1003: Syntax error, ',' expected\r\n(2,34): error CS1002: ; expected\r\n(2,34): error CS1525: Invalid expression term 'as'\r\n(2,41): error CS1002: ; expected\r\n(2,41): error CS7017: Member definition, statement, or end-of-file expected",
     "output_type": "error",
     "traceback": [
      "(1,2): error CS1024: Preprocessor directive expected\r\n(2,11): error CS1012: Too many characters in character literal\r\n(2,27): error CS1031: Type expected\r\n(2,27): error CS1001: Identifier expected\r\n(2,29): error CS1031: Type expected\r\n(2,29): error CS1001: Identifier expected\r\n(2,29): error CS1003: Syntax error, ',' expected\r\n(2,34): error CS1002: ; expected\r\n(2,34): error CS1525: Invalid expression term 'as'\r\n(2,41): error CS1002: ; expected\r\n(2,41): error CS7017: Member definition, statement, or end-of-file expected"
     ]
    }
   ],
   "source": [
    "#Trying to open a file that does not exist, such as mistyping the file name or looking in the wrong directory. \n",
    "with open('hello_file.txt', 'r') as file:\n",
    "   \n",
    "    pass\n"
   ]
  },
  {
   "cell_type": "markdown",
   "id": "a9563e93",
   "metadata": {},
   "source": [
    "## Question 10 Python"
   ]
  },
  {
   "cell_type": "markdown",
   "id": "58aef48b",
   "metadata": {},
   "source": [
    "Encryption is the process of hiding the meaning of a text by substituting letters in themessage with other letters, according to some system. If the process is successful, noone but the intended recipient can understand the encrypted message. Cryptanalysisrefers to attempts to undo the encryption, even if some details of the encryption areunknown (for example, if an encrypted message has been intercepted). The first stepof cryptanalysis is often to build up a table of letter frequencies in the encrypted text.\n",
    "Assume that the string letters is already defined as\n",
    "'abcdefghijklmnopqrstuvwxyz'. Write a function called frequencies()that takes a string as its only parameter, and returns a list of integers, showing thenumber of times each character appears in the text. Your function may ignore anycharacters that are not in letters.\n",
    ">>> frequencies('The quick red fox got bored and went home.')[1, 1, 1, 3, 5, 1, 1, 2, 1, 0, 1, 0, 1, 2, 4, 0, 1, 2, 0, 2,1, 0, 1, 1, 0, 0]>>> frequencies('apple')"
   ]
  },
  {
   "cell_type": "code",
   "execution_count": 34,
   "id": "3c483830",
   "metadata": {},
   "outputs": [
    {
     "ename": "Unhandled Exception",
     "evalue": "(1,25): error CS1001: Identifier expected\r\n(1,27): error CS1018: Keyword 'this' or 'base' expected\r\n(1,27): error CS1002: ; expected\r\n(2,7): error CS1024: Preprocessor directive expected\r\n(3,14): error CS1525: Invalid expression term '['\r\n(3,24): error CS1040: Preprocessor directives must appear as the first non-whitespace character on a line\r\n(3,22): error CS1002: ; expected\r\n(5,7): error CS1024: Preprocessor directive expected\r\n(6,32): error CS1002: ; expected\r\n(8,7): error CS1024: Preprocessor directive expected\r\n(9,15): error CS1012: Too many characters in character literal\r\n(9,43): error CS1002: ; expected\r\n(11,7): error CS1024: Preprocessor directive expected\r\n(12,9): error CS1003: Syntax error, '(' expected\r\n(12,9): error CS1525: Invalid expression term 'char'\r\n(12,14): error CS1003: Syntax error, ',' expected\r\n(12,17): error CS1003: Syntax error, ',' expected\r\n(12,25): error CS1003: Syntax error, ',' expected\r\n(12,26): error CS1002: ; expected\r\n(12,26): error CS1525: Invalid expression term 'if'\r\n(12,26): error CS1002: ; expected\r\n(12,26): error CS1026: ) expected\r\n(13,11): error CS1024: Preprocessor directive expected\r\n(14,12): error CS1003: Syntax error, '(' expected\r\n(14,12): error CS1525: Invalid expression term 'char'\r\n(14,17): error CS1026: ) expected\r\n(14,17): error CS1525: Invalid expression term 'in'\r\n(14,17): error CS1002: ; expected\r\n(14,17): error CS7017: Member definition, statement, or end-of-file expected\r\n(15,15): error CS1024: Preprocessor directive expected\r\n(16,34): error CS1525: Invalid expression term 'char'\r\n(16,45): error CS1002: ; expected\r\n(18,18): error CS1002: ; expected\r\n(21,39): error CS1002: ; expected\r\n(22,31): error CS1002: ; expected\r\n(24,3): error CS1024: Preprocessor directive expected\r\n(25,5): error CS1003: Syntax error, '(' expected\r\n(25,19): error CS1003: Syntax error, ',' expected\r\n(25,22): error CS1003: Syntax error, ',' expected\r\n(25,26): error CS1012: Too many characters in character literal\r\n(25,63): error CS1003: Syntax error, ',' expected\r\n(25,64): error CS1003: Syntax error, ',' expected\r\n(26,12): error CS1003: Syntax error, ',' expected\r\n(26,32): error CS1002: ; expected\r\n(26,32): error CS1733: Expected expression\r\n(26,32): error CS1002: ; expected\r\n(26,32): error CS1026: ) expected\r\n(26,32): error CS1733: Expected expression\r\n(26,32): error CS1002: ; expected",
     "output_type": "error",
     "traceback": [
      "(1,25): error CS1001: Identifier expected\r\n(1,27): error CS1018: Keyword 'this' or 'base' expected\r\n(1,27): error CS1002: ; expected\r\n(2,7): error CS1024: Preprocessor directive expected\r\n(3,14): error CS1525: Invalid expression term '['\r\n(3,24): error CS1040: Preprocessor directives must appear as the first non-whitespace character on a line\r\n(3,22): error CS1002: ; expected\r\n(5,7): error CS1024: Preprocessor directive expected\r\n(6,32): error CS1002: ; expected\r\n(8,7): error CS1024: Preprocessor directive expected\r\n(9,15): error CS1012: Too many characters in character literal\r\n(9,43): error CS1002: ; expected\r\n(11,7): error CS1024: Preprocessor directive expected\r\n(12,9): error CS1003: Syntax error, '(' expected\r\n(12,9): error CS1525: Invalid expression term 'char'\r\n(12,14): error CS1003: Syntax error, ',' expected\r\n(12,17): error CS1003: Syntax error, ',' expected\r\n(12,25): error CS1003: Syntax error, ',' expected\r\n(12,26): error CS1002: ; expected\r\n(12,26): error CS1525: Invalid expression term 'if'\r\n(12,26): error CS1002: ; expected\r\n(12,26): error CS1026: ) expected\r\n(13,11): error CS1024: Preprocessor directive expected\r\n(14,12): error CS1003: Syntax error, '(' expected\r\n(14,12): error CS1525: Invalid expression term 'char'\r\n(14,17): error CS1026: ) expected\r\n(14,17): error CS1525: Invalid expression term 'in'\r\n(14,17): error CS1002: ; expected\r\n(14,17): error CS7017: Member definition, statement, or end-of-file expected\r\n(15,15): error CS1024: Preprocessor directive expected\r\n(16,34): error CS1525: Invalid expression term 'char'\r\n(16,45): error CS1002: ; expected\r\n(18,18): error CS1002: ; expected\r\n(21,39): error CS1002: ; expected\r\n(22,31): error CS1002: ; expected\r\n(24,3): error CS1024: Preprocessor directive expected\r\n(25,5): error CS1003: Syntax error, '(' expected\r\n(25,19): error CS1003: Syntax error, ',' expected\r\n(25,22): error CS1003: Syntax error, ',' expected\r\n(25,26): error CS1012: Too many characters in character literal\r\n(25,63): error CS1003: Syntax error, ',' expected\r\n(25,64): error CS1003: Syntax error, ',' expected\r\n(26,12): error CS1003: Syntax error, ',' expected\r\n(26,32): error CS1002: ; expected\r\n(26,32): error CS1733: Expected expression\r\n(26,32): error CS1002: ; expected\r\n(26,32): error CS1026: ) expected\r\n(26,32): error CS1733: Expected expression\r\n(26,32): error CS1002: ; expected"
     ]
    }
   ],
   "source": [
    "def frequencies(sentence):\n",
    "    # Initialize a list of integers to store the counts of characters\n",
    "    counts = [0] * 26  # 26 letters in 'abcdefghijklmnopqrstuvwxyz'\n",
    "\n",
    "    # Convert the input text to lowercase to make it case-insensitive\n",
    "    sentence = sentence.lower()\n",
    "\n",
    "    # Define the letters\n",
    "    letters = 'abcdefghijklmnopqrstuvwxyz'\n",
    "\n",
    "    # Iterate through each character in the input text\n",
    "    for char in sentence:\n",
    "        # Check if the character is a letter\n",
    "        if char in letters:\n",
    "            # Increment the count for the corresponding character in the list\n",
    "            counts[letters.index(char)] += 1\n",
    "\n",
    "    return counts\n",
    "\n",
    "\n",
    "sentence = input(\"Enter a sentence: \")\n",
    "result = frequencies(sentence)\n",
    "\n",
    "# Print the letter frequencies\n",
    "for letter, count in zip('abcdefghijklmnopqrstuvwxyz', result):\n",
    "    print(f\"{letter}: {count}\")\n",
    "\n"
   ]
  }
 ],
 "metadata": {
  "kernelspec": {
   "display_name": "Python 3 (ipykernel)",
   "language": "python",
   "name": "python3"
  },
  "language_info": {
   "codemirror_mode": {
    "name": "ipython",
    "version": 3
   },
   "file_extension": ".py",
   "mimetype": "text/x-python",
   "name": "python",
   "nbconvert_exporter": "python",
   "pygments_lexer": "ipython3",
   "version": "3.11.5"
  }
 },
 "nbformat": 4,
 "nbformat_minor": 5
}
